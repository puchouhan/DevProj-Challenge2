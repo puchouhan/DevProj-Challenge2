{
 "cells": [
  {
   "cell_type": "markdown",
   "metadata": {
    "id": "CfLr-GymQzoL"
   },
   "source": [
    "# Challenge 2 - Colab Demo\n",
    "This notebook is for Colab. The included OS commands are for linux and may not work on Windows machines."
   ]
  },
  {
   "cell_type": "markdown",
   "metadata": {
    "id": "TCC0MvAs8jya"
   },
   "source": [
    "## Setup Code"
   ]
  },
  {
   "cell_type": "code",
   "execution_count": 1,
   "metadata": {
    "colab": {
     "base_uri": "https://localhost:8080/"
    },
    "id": "Ig1FSyn-x9nP",
    "outputId": "3cd9f4cb-d30a-407f-d632-2237c61c3e6c",
    "trusted": true
   },
   "outputs": [
    {
     "name": "stdout",
     "output_type": "stream",
     "text": [
      "CPU used, slower execution\n",
      "Try to get a GPU runtime for faster progress\n"
     ]
    }
   ],
   "source": [
    "import torch\n",
    "if torch.cuda.is_available():\n",
    "  print(\"GPU used\")\n",
    "else:\n",
    "  print(\"CPU used, slower execution\")\n",
    "  print(\"Try to get a GPU runtime for faster progress\")"
   ]
  },
  {
   "cell_type": "code",
   "execution_count": 3,
   "metadata": {
    "colab": {
     "base_uri": "https://localhost:8080/"
    },
    "id": "28ie2wNDN7E1",
    "outputId": "53e68518-fbef-4df0-b303-08a1b8d6f156",
    "trusted": true
   },
   "outputs": [
    {
     "name": "stdout",
     "output_type": "stream",
     "text": [
      "/Users/pulkit/Library/Mobile Documents/com~apple~CloudDocs/ai_fhtw/AI-ENG2024/ss2025/DevProjAIE/Challenge2/challenge2/DevProj-Challenge2\n",
      "README.md                    \u001b[34mmodels\u001b[m\u001b[m\n",
      "challenge-2-colab-demo.ipynb requirements.txt\n",
      "config.py                    test_crossval.py\n",
      "\u001b[34mdataset\u001b[m\u001b[m                      train_crossval.py\n"
     ]
    }
   ],
   "source": [
    "!pwd\n",
    "!ls"
   ]
  },
  {
   "cell_type": "code",
   "execution_count": null,
   "metadata": {
    "colab": {
     "base_uri": "https://localhost:8080/"
    },
    "id": "sdQpvU25LiMV",
    "outputId": "beb3d376-b097-43c9-c01a-ccd00ea726a1",
    "trusted": true
   },
   "outputs": [],
   "source": [
    "# # activate to remove existing project to enable new git clone\n",
    "# remove_project = True\n",
    "# if remove_project:\n",
    "#   # go to default directory - for Colab /content\n",
    "#   %cd /content\n",
    "\n",
    "#   !rm -rf Challenge2\n",
    "# else:\n",
    "#   !pwd\n",
    "# !ls"
   ]
  },
  {
   "cell_type": "code",
   "execution_count": null,
   "metadata": {
    "colab": {
     "base_uri": "https://localhost:8080/"
    },
    "id": "eyHcynzIyUXs",
    "outputId": "70204e83-de81-43c3-fc20-f6cfc526a4ef",
    "trusted": true
   },
   "outputs": [],
   "source": [
    "# !git clone https://github.com/Ma0256/Challenge2_2025.git Challenge2"
   ]
  },
  {
   "cell_type": "code",
   "execution_count": null,
   "metadata": {
    "colab": {
     "base_uri": "https://localhost:8080/"
    },
    "id": "yQcoM8Wt0aHL",
    "outputId": "3ac1ad75-e08e-4b62-a97c-bd18b39ea04d",
    "trusted": true
   },
   "outputs": [],
   "source": [
    "# %cd Challenge2\n",
    "# !ls"
   ]
  },
  {
   "cell_type": "code",
   "execution_count": null,
   "metadata": {
    "id": "RHw8ObojH3MW",
    "trusted": true
   },
   "outputs": [
    {
     "name": "stdout",
     "output_type": "stream",
     "text": [
      "Requirement already satisfied: numpy>=1.25.0 in /Users/pulkit/miniconda3/envs/AI_FHTW/lib/python3.12/site-packages (from -r requirements.txt (line 3)) (2.2.4)\n",
      "Collecting librosa>=0.10.0 (from -r requirements.txt (line 4))\n",
      "  Downloading librosa-0.11.0-py3-none-any.whl.metadata (8.7 kB)\n",
      "Requirement already satisfied: scikit-learn==1.6.1 in /Users/pulkit/miniconda3/envs/AI_FHTW/lib/python3.12/site-packages (from -r requirements.txt (line 5)) (1.6.1)\n",
      "Requirement already satisfied: pandas>=2.1 in /Users/pulkit/miniconda3/envs/AI_FHTW/lib/python3.12/site-packages (from -r requirements.txt (line 6)) (2.2.3)\n",
      "Requirement already satisfied: tqdm>=4.65.0 in /Users/pulkit/miniconda3/envs/AI_FHTW/lib/python3.12/site-packages (from -r requirements.txt (line 7)) (4.67.1)\n",
      "Requirement already satisfied: requests>=2.31.0 in /Users/pulkit/miniconda3/envs/AI_FHTW/lib/python3.12/site-packages (from -r requirements.txt (line 8)) (2.32.3)\n",
      "Requirement already satisfied: scipy>=1.6.0 in /Users/pulkit/miniconda3/envs/AI_FHTW/lib/python3.12/site-packages (from scikit-learn==1.6.1->-r requirements.txt (line 5)) (1.15.1)\n",
      "Requirement already satisfied: joblib>=1.2.0 in /Users/pulkit/miniconda3/envs/AI_FHTW/lib/python3.12/site-packages (from scikit-learn==1.6.1->-r requirements.txt (line 5)) (1.4.2)\n",
      "Requirement already satisfied: threadpoolctl>=3.1.0 in /Users/pulkit/miniconda3/envs/AI_FHTW/lib/python3.12/site-packages (from scikit-learn==1.6.1->-r requirements.txt (line 5)) (3.5.0)\n",
      "Collecting audioread>=2.1.9 (from librosa>=0.10.0->-r requirements.txt (line 4))\n",
      "  Downloading audioread-3.0.1-py3-none-any.whl.metadata (8.4 kB)\n",
      "Collecting numba>=0.51.0 (from librosa>=0.10.0->-r requirements.txt (line 4))\n",
      "  Downloading numba-0.61.2-cp312-cp312-macosx_11_0_arm64.whl.metadata (2.8 kB)\n",
      "Requirement already satisfied: decorator>=4.3.0 in /Users/pulkit/miniconda3/envs/AI_FHTW/lib/python3.12/site-packages (from librosa>=0.10.0->-r requirements.txt (line 4)) (5.1.1)\n",
      "Collecting soundfile>=0.12.1 (from librosa>=0.10.0->-r requirements.txt (line 4))\n",
      "  Downloading soundfile-0.13.1-py2.py3-none-macosx_11_0_arm64.whl.metadata (16 kB)\n",
      "Collecting pooch>=1.1 (from librosa>=0.10.0->-r requirements.txt (line 4))\n",
      "  Downloading pooch-1.8.2-py3-none-any.whl.metadata (10 kB)\n",
      "Collecting soxr>=0.3.2 (from librosa>=0.10.0->-r requirements.txt (line 4))\n",
      "  Downloading soxr-0.5.0.post1-cp312-abi3-macosx_11_0_arm64.whl.metadata (5.6 kB)\n",
      "Requirement already satisfied: typing_extensions>=4.1.1 in /Users/pulkit/miniconda3/envs/AI_FHTW/lib/python3.12/site-packages (from librosa>=0.10.0->-r requirements.txt (line 4)) (4.12.2)\n",
      "Collecting lazy_loader>=0.1 (from librosa>=0.10.0->-r requirements.txt (line 4))\n",
      "  Downloading lazy_loader-0.4-py3-none-any.whl.metadata (7.6 kB)\n",
      "Collecting msgpack>=1.0 (from librosa>=0.10.0->-r requirements.txt (line 4))\n",
      "  Downloading msgpack-1.1.0-cp312-cp312-macosx_11_0_arm64.whl.metadata (8.4 kB)\n",
      "Requirement already satisfied: python-dateutil>=2.8.2 in /Users/pulkit/miniconda3/envs/AI_FHTW/lib/python3.12/site-packages (from pandas>=2.1->-r requirements.txt (line 6)) (2.9.0.post0)\n",
      "Requirement already satisfied: pytz>=2020.1 in /Users/pulkit/miniconda3/envs/AI_FHTW/lib/python3.12/site-packages (from pandas>=2.1->-r requirements.txt (line 6)) (2024.1)\n",
      "Requirement already satisfied: tzdata>=2022.7 in /Users/pulkit/miniconda3/envs/AI_FHTW/lib/python3.12/site-packages (from pandas>=2.1->-r requirements.txt (line 6)) (2023.3)\n",
      "Requirement already satisfied: charset-normalizer<4,>=2 in /Users/pulkit/miniconda3/envs/AI_FHTW/lib/python3.12/site-packages (from requests>=2.31.0->-r requirements.txt (line 8)) (3.3.2)\n",
      "Requirement already satisfied: idna<4,>=2.5 in /Users/pulkit/miniconda3/envs/AI_FHTW/lib/python3.12/site-packages (from requests>=2.31.0->-r requirements.txt (line 8)) (3.7)\n",
      "Requirement already satisfied: urllib3<3,>=1.21.1 in /Users/pulkit/miniconda3/envs/AI_FHTW/lib/python3.12/site-packages (from requests>=2.31.0->-r requirements.txt (line 8)) (2.3.0)\n",
      "Requirement already satisfied: certifi>=2017.4.17 in /Users/pulkit/miniconda3/envs/AI_FHTW/lib/python3.12/site-packages (from requests>=2.31.0->-r requirements.txt (line 8)) (2025.1.31)\n",
      "Requirement already satisfied: packaging in /Users/pulkit/miniconda3/envs/AI_FHTW/lib/python3.12/site-packages (from lazy_loader>=0.1->librosa>=0.10.0->-r requirements.txt (line 4)) (24.2)\n",
      "Collecting llvmlite<0.45,>=0.44.0dev0 (from numba>=0.51.0->librosa>=0.10.0->-r requirements.txt (line 4))\n",
      "  Using cached llvmlite-0.44.0-cp312-cp312-macosx_11_0_arm64.whl.metadata (4.8 kB)\n",
      "Requirement already satisfied: platformdirs>=2.5.0 in /Users/pulkit/miniconda3/envs/AI_FHTW/lib/python3.12/site-packages (from pooch>=1.1->librosa>=0.10.0->-r requirements.txt (line 4)) (3.10.0)\n",
      "Requirement already satisfied: six>=1.5 in /Users/pulkit/miniconda3/envs/AI_FHTW/lib/python3.12/site-packages (from python-dateutil>=2.8.2->pandas>=2.1->-r requirements.txt (line 6)) (1.16.0)\n",
      "Collecting cffi>=1.0 (from soundfile>=0.12.1->librosa>=0.10.0->-r requirements.txt (line 4))\n",
      "  Downloading cffi-1.17.1-cp312-cp312-macosx_11_0_arm64.whl.metadata (1.5 kB)\n",
      "Collecting pycparser (from cffi>=1.0->soundfile>=0.12.1->librosa>=0.10.0->-r requirements.txt (line 4))\n",
      "  Downloading pycparser-2.22-py3-none-any.whl.metadata (943 bytes)\n",
      "Downloading librosa-0.11.0-py3-none-any.whl (260 kB)\n",
      "Downloading audioread-3.0.1-py3-none-any.whl (23 kB)\n",
      "Downloading lazy_loader-0.4-py3-none-any.whl (12 kB)\n",
      "Downloading msgpack-1.1.0-cp312-cp312-macosx_11_0_arm64.whl (82 kB)\n",
      "Downloading numba-0.61.2-cp312-cp312-macosx_11_0_arm64.whl (2.8 MB)\n",
      "\u001b[2K   \u001b[90m━━━━━━━━━━━━━━━━━━━━━━━━━━━━━━━━━━━━━━━━\u001b[0m \u001b[32m2.8/2.8 MB\u001b[0m \u001b[31m51.2 MB/s\u001b[0m eta \u001b[36m0:00:00\u001b[0m\n",
      "\u001b[?25hDownloading pooch-1.8.2-py3-none-any.whl (64 kB)\n",
      "Downloading soundfile-0.13.1-py2.py3-none-macosx_11_0_arm64.whl (1.1 MB)\n",
      "\u001b[2K   \u001b[90m━━━━━━━━━━━━━━━━━━━━━━━━━━━━━━━━━━━━━━━━\u001b[0m \u001b[32m1.1/1.1 MB\u001b[0m \u001b[31m36.3 MB/s\u001b[0m eta \u001b[36m0:00:00\u001b[0m\n",
      "\u001b[?25hDownloading soxr-0.5.0.post1-cp312-abi3-macosx_11_0_arm64.whl (156 kB)\n",
      "Downloading cffi-1.17.1-cp312-cp312-macosx_11_0_arm64.whl (178 kB)\n",
      "Using cached llvmlite-0.44.0-cp312-cp312-macosx_11_0_arm64.whl (26.2 MB)\n",
      "Downloading pycparser-2.22-py3-none-any.whl (117 kB)\n",
      "Installing collected packages: soxr, pycparser, msgpack, llvmlite, lazy_loader, audioread, pooch, numba, cffi, soundfile, librosa\n",
      "Successfully installed audioread-3.0.1 cffi-1.17.1 lazy_loader-0.4 librosa-0.11.0 llvmlite-0.44.0 msgpack-1.1.0 numba-0.61.2 pooch-1.8.2 pycparser-2.22 soundfile-0.13.1 soxr-0.5.0.post1\n"
     ]
    }
   ],
   "source": [
    "# installing all reqs can take a long time. First try to run with default package installation.\n",
    "#!pip install -r requirements.txt"
   ]
  },
  {
   "cell_type": "markdown",
   "metadata": {
    "id": "s3zHS5Gf8u3Z"
   },
   "source": [
    "## Download Dataset"
   ]
  },
  {
   "cell_type": "code",
   "execution_count": null,
   "metadata": {
    "colab": {
     "base_uri": "https://localhost:8080/"
    },
    "id": "5wCGFUo-9Zbg",
    "outputId": "d82e4a5b-6761-479e-bff8-985529075557",
    "trusted": true
   },
   "outputs": [],
   "source": [
    "from dataset.dataset_ESC50 import ESC50\n",
    "import config\n",
    "\n",
    "testset = ESC50(subset=\"test\", root=config.esc50_path, download=True)"
   ]
  },
  {
   "cell_type": "markdown",
   "metadata": {
    "id": "f6H7TJqdJqz_"
   },
   "source": [
    "This dataset contains 2000 audio files and is pre-organized in 5 equal sized folds of 400 files. The predictive performance is measured via average accuracy of 5-fold cross validation."
   ]
  },
  {
   "cell_type": "markdown",
   "metadata": {
    "id": "k-H4QmgwGpNp"
   },
   "source": [
    "What is the expected accuracy for random guessing? Check the number of classes."
   ]
  },
  {
   "cell_type": "code",
   "execution_count": null,
   "metadata": {
    "colab": {
     "base_uri": "https://localhost:8080/"
    },
    "id": "QBdkry58Gepg",
    "outputId": "e800eb97-8756-4979-dbd3-bc1face7c332",
    "trusted": true
   },
   "outputs": [],
   "source": [
    "config.n_classes"
   ]
  },
  {
   "cell_type": "markdown",
   "metadata": {},
   "source": [
    "Look at the dataset here: https://github.com/karolpiczak/ESC-50"
   ]
  },
  {
   "cell_type": "markdown",
   "metadata": {
    "id": "x3uXrmhw-tIF"
   },
   "source": [
    "## Evaluate Cross Validation\n",
    "This will test all 5 cross validation folds with training results of a sample-run - every fold with the respective model. First the sample-run (incl. the models) is downloaded. Then the model is loaded with the sample-run parameters and tested on the fold, for all 5 folds."
   ]
  },
  {
   "cell_type": "code",
   "execution_count": null,
   "metadata": {
    "colab": {
     "base_uri": "https://localhost:8080/"
    },
    "id": "E7EoxObA0bui",
    "outputId": "83f2e4dc-ace7-429b-838b-46c083e2a574",
    "trusted": true
   },
   "outputs": [],
   "source": [
    "import pandas as pd\n",
    "!mkdir results\n",
    "!python test_crossval.py"
   ]
  },
  {
   "cell_type": "markdown",
   "metadata": {
    "id": "0a1f4lGyBLPe"
   },
   "source": [
    "The mean CV accuracy should be TestAcc=0.361. This is quite good, given a random baseline of 0.02 / 2%.\n",
    "\n",
    "The sample-run directory now contains two CSV files, one with test scores and another with predictions."
   ]
  },
  {
   "cell_type": "code",
   "execution_count": null,
   "metadata": {
    "colab": {
     "base_uri": "https://localhost:8080/"
    },
    "id": "2WvbhpAV8Dgl",
    "outputId": "18b42905-bc12-4c5a-cebe-059a742fac0d",
    "trusted": true
   },
   "outputs": [],
   "source": [
    "!ls results/sample-run/"
   ]
  },
  {
   "cell_type": "markdown",
   "metadata": {
    "id": "SH0IMqplEIYm"
   },
   "source": [
    "Let's check the scores."
   ]
  },
  {
   "cell_type": "code",
   "execution_count": null,
   "metadata": {
    "colab": {
     "base_uri": "https://localhost:8080/",
     "height": 269
    },
    "id": "4LioTO4TCkrc",
    "outputId": "1ec6e3dc-7bb6-48d7-c708-a2f2ae0ece13",
    "trusted": true
   },
   "outputs": [],
   "source": [
    "pd.read_csv('results/sample-run/test_scores_terminal.csv', index_col=0)"
   ]
  },
  {
   "cell_type": "markdown",
   "metadata": {
    "id": "_NcYG0KWEjEw"
   },
   "source": [
    "The predictions file is for submission. For every tested WAV file it contains the model predictions for the 50 classes."
   ]
  },
  {
   "cell_type": "code",
   "execution_count": null,
   "metadata": {
    "colab": {
     "base_uri": "https://localhost:8080/",
     "height": 516
    },
    "id": "ncbDlAUtEVRg",
    "outputId": "fcdade0d-dc1c-4b20-94a4-1e62d976277f",
    "trusted": true
   },
   "outputs": [],
   "source": [
    "pd.read_csv('results/sample-run/test_probs_terminal.csv', index_col=0).head()"
   ]
  },
  {
   "cell_type": "markdown",
   "metadata": {
    "id": "35GjYEpJHZt5"
   },
   "source": [
    "Let's download the predictions file and submit it to the Challenge in Moodle."
   ]
  },
  {
   "cell_type": "markdown",
   "metadata": {
    "id": "0DWlu6PoH98D"
   },
   "source": [
    "## Train Cross Validation"
   ]
  },
  {
   "cell_type": "code",
   "execution_count": null,
   "metadata": {
    "colab": {
     "base_uri": "https://localhost:8080/"
    },
    "id": "k3YvPnA6HjlJ",
    "outputId": "eed63b69-1a94-4832-f08d-d23a623bdb0b",
    "trusted": true
   },
   "outputs": [],
   "source": [
    "!python train_crossval.py"
   ]
  },
  {
   "cell_type": "code",
   "execution_count": null,
   "metadata": {
    "id": "10a0Qwi9Iaxn",
    "trusted": true
   },
   "outputs": [],
   "source": []
  }
 ],
 "metadata": {
  "colab": {
   "provenance": []
  },
  "kaggle": {
   "accelerator": "nvidiaTeslaT4",
   "dataSources": [],
   "dockerImageVersionId": 30919,
   "isGpuEnabled": true,
   "isInternetEnabled": true,
   "language": "python",
   "sourceType": "notebook"
  },
  "kernelspec": {
   "display_name": "AI_FHTW",
   "language": "python",
   "name": "python3"
  },
  "language_info": {
   "codemirror_mode": {
    "name": "ipython",
    "version": 3
   },
   "file_extension": ".py",
   "mimetype": "text/x-python",
   "name": "python",
   "nbconvert_exporter": "python",
   "pygments_lexer": "ipython3",
   "version": "3.12.9"
  }
 },
 "nbformat": 4,
 "nbformat_minor": 4
}
