{
 "cells": [
  {
   "cell_type": "markdown",
   "metadata": {
    "id": "CfLr-GymQzoL"
   },
   "source": [
    "# Challenge 2 - Colab Demo\n",
    "This notebook is for Colab. The included OS commands are for linux and may not work on Windows machines."
   ]
  },
  {
   "cell_type": "markdown",
   "metadata": {
    "id": "TCC0MvAs8jya"
   },
   "source": [
    "## Setup Code"
   ]
  },
  {
   "cell_type": "code",
   "metadata": {
    "colab": {
     "base_uri": "https://localhost:8080/"
    },
    "id": "Ig1FSyn-x9nP",
    "outputId": "3cd9f4cb-d30a-407f-d632-2237c61c3e6c",
    "trusted": true,
    "ExecuteTime": {
     "end_time": "2025-04-29T19:20:48.005985Z",
     "start_time": "2025-04-29T19:20:47.974437Z"
    }
   },
   "source": [
    "import torch\n",
    "if torch.cuda.is_available():\n",
    "  print(\"GPU used\")\n",
    "else:\n",
    "  print(\"CPU used, slower execution\")\n",
    "  print(\"Try to get a GPU runtime for faster progress\")"
   ],
   "outputs": [
    {
     "name": "stdout",
     "output_type": "stream",
     "text": [
      "CPU used, slower execution\n",
      "Try to get a GPU runtime for faster progress\n"
     ]
    }
   ],
   "execution_count": 5
  },
  {
   "cell_type": "code",
   "execution_count": 3,
   "metadata": {
    "colab": {
     "base_uri": "https://localhost:8080/"
    },
    "id": "28ie2wNDN7E1",
    "outputId": "53e68518-fbef-4df0-b303-08a1b8d6f156",
    "trusted": true
   },
   "outputs": [
    {
     "name": "stdout",
     "output_type": "stream",
     "text": [
      "/Users/pulkit/Library/Mobile Documents/com~apple~CloudDocs/ai_fhtw/AI-ENG2024/ss2025/DevProjAIE/Challenge2/challenge2/DevProj-Challenge2\n",
      "README.md                    \u001B[34mmodels\u001B[m\u001B[m\n",
      "challenge-2-colab-demo.ipynb requirements.txt\n",
      "config.py                    test_crossval.py\n",
      "\u001B[34mdataset\u001B[m\u001B[m                      train_crossval.py\n"
     ]
    }
   ],
   "source": [
    "!pwd\n",
    "!ls"
   ]
  },
  {
   "cell_type": "code",
   "execution_count": null,
   "metadata": {
    "colab": {
     "base_uri": "https://localhost:8080/"
    },
    "id": "sdQpvU25LiMV",
    "outputId": "beb3d376-b097-43c9-c01a-ccd00ea726a1",
    "trusted": true
   },
   "outputs": [],
   "source": [
    "# # activate to remove existing project to enable new git clone\n",
    "# remove_project = True\n",
    "# if remove_project:\n",
    "#   # go to default directory - for Colab /content\n",
    "#   %cd /content\n",
    "\n",
    "#   !rm -rf Challenge2\n",
    "# else:\n",
    "#   !pwd\n",
    "# !ls"
   ]
  },
  {
   "cell_type": "code",
   "execution_count": null,
   "metadata": {
    "colab": {
     "base_uri": "https://localhost:8080/"
    },
    "id": "eyHcynzIyUXs",
    "outputId": "70204e83-de81-43c3-fc20-f6cfc526a4ef",
    "trusted": true
   },
   "outputs": [],
   "source": [
    "# !git clone https://github.com/Ma0256/Challenge2_2025.git Challenge2"
   ]
  },
  {
   "cell_type": "code",
   "execution_count": null,
   "metadata": {
    "colab": {
     "base_uri": "https://localhost:8080/"
    },
    "id": "yQcoM8Wt0aHL",
    "outputId": "3ac1ad75-e08e-4b62-a97c-bd18b39ea04d",
    "trusted": true
   },
   "outputs": [],
   "source": [
    "# %cd Challenge2\n",
    "# !ls"
   ]
  },
  {
   "cell_type": "code",
   "execution_count": null,
   "metadata": {
    "id": "RHw8ObojH3MW",
    "trusted": true
   },
   "outputs": [
    {
     "name": "stdout",
     "output_type": "stream",
     "text": [
      "Requirement already satisfied: numpy>=1.25.0 in /Users/pulkit/miniconda3/envs/AI_FHTW/lib/python3.12/site-packages (from -r requirements.txt (line 3)) (2.2.4)\n",
      "Collecting librosa>=0.10.0 (from -r requirements.txt (line 4))\n",
      "  Downloading librosa-0.11.0-py3-none-any.whl.metadata (8.7 kB)\n",
      "Requirement already satisfied: scikit-learn==1.6.1 in /Users/pulkit/miniconda3/envs/AI_FHTW/lib/python3.12/site-packages (from -r requirements.txt (line 5)) (1.6.1)\n",
      "Requirement already satisfied: pandas>=2.1 in /Users/pulkit/miniconda3/envs/AI_FHTW/lib/python3.12/site-packages (from -r requirements.txt (line 6)) (2.2.3)\n",
      "Requirement already satisfied: tqdm>=4.65.0 in /Users/pulkit/miniconda3/envs/AI_FHTW/lib/python3.12/site-packages (from -r requirements.txt (line 7)) (4.67.1)\n",
      "Requirement already satisfied: requests>=2.31.0 in /Users/pulkit/miniconda3/envs/AI_FHTW/lib/python3.12/site-packages (from -r requirements.txt (line 8)) (2.32.3)\n",
      "Requirement already satisfied: scipy>=1.6.0 in /Users/pulkit/miniconda3/envs/AI_FHTW/lib/python3.12/site-packages (from scikit-learn==1.6.1->-r requirements.txt (line 5)) (1.15.1)\n",
      "Requirement already satisfied: joblib>=1.2.0 in /Users/pulkit/miniconda3/envs/AI_FHTW/lib/python3.12/site-packages (from scikit-learn==1.6.1->-r requirements.txt (line 5)) (1.4.2)\n",
      "Requirement already satisfied: threadpoolctl>=3.1.0 in /Users/pulkit/miniconda3/envs/AI_FHTW/lib/python3.12/site-packages (from scikit-learn==1.6.1->-r requirements.txt (line 5)) (3.5.0)\n",
      "Collecting audioread>=2.1.9 (from librosa>=0.10.0->-r requirements.txt (line 4))\n",
      "  Downloading audioread-3.0.1-py3-none-any.whl.metadata (8.4 kB)\n",
      "Collecting numba>=0.51.0 (from librosa>=0.10.0->-r requirements.txt (line 4))\n",
      "  Downloading numba-0.61.2-cp312-cp312-macosx_11_0_arm64.whl.metadata (2.8 kB)\n",
      "Requirement already satisfied: decorator>=4.3.0 in /Users/pulkit/miniconda3/envs/AI_FHTW/lib/python3.12/site-packages (from librosa>=0.10.0->-r requirements.txt (line 4)) (5.1.1)\n",
      "Collecting soundfile>=0.12.1 (from librosa>=0.10.0->-r requirements.txt (line 4))\n",
      "  Downloading soundfile-0.13.1-py2.py3-none-macosx_11_0_arm64.whl.metadata (16 kB)\n",
      "Collecting pooch>=1.1 (from librosa>=0.10.0->-r requirements.txt (line 4))\n",
      "  Downloading pooch-1.8.2-py3-none-any.whl.metadata (10 kB)\n",
      "Collecting soxr>=0.3.2 (from librosa>=0.10.0->-r requirements.txt (line 4))\n",
      "  Downloading soxr-0.5.0.post1-cp312-abi3-macosx_11_0_arm64.whl.metadata (5.6 kB)\n",
      "Requirement already satisfied: typing_extensions>=4.1.1 in /Users/pulkit/miniconda3/envs/AI_FHTW/lib/python3.12/site-packages (from librosa>=0.10.0->-r requirements.txt (line 4)) (4.12.2)\n",
      "Collecting lazy_loader>=0.1 (from librosa>=0.10.0->-r requirements.txt (line 4))\n",
      "  Downloading lazy_loader-0.4-py3-none-any.whl.metadata (7.6 kB)\n",
      "Collecting msgpack>=1.0 (from librosa>=0.10.0->-r requirements.txt (line 4))\n",
      "  Downloading msgpack-1.1.0-cp312-cp312-macosx_11_0_arm64.whl.metadata (8.4 kB)\n",
      "Requirement already satisfied: python-dateutil>=2.8.2 in /Users/pulkit/miniconda3/envs/AI_FHTW/lib/python3.12/site-packages (from pandas>=2.1->-r requirements.txt (line 6)) (2.9.0.post0)\n",
      "Requirement already satisfied: pytz>=2020.1 in /Users/pulkit/miniconda3/envs/AI_FHTW/lib/python3.12/site-packages (from pandas>=2.1->-r requirements.txt (line 6)) (2024.1)\n",
      "Requirement already satisfied: tzdata>=2022.7 in /Users/pulkit/miniconda3/envs/AI_FHTW/lib/python3.12/site-packages (from pandas>=2.1->-r requirements.txt (line 6)) (2023.3)\n",
      "Requirement already satisfied: charset-normalizer<4,>=2 in /Users/pulkit/miniconda3/envs/AI_FHTW/lib/python3.12/site-packages (from requests>=2.31.0->-r requirements.txt (line 8)) (3.3.2)\n",
      "Requirement already satisfied: idna<4,>=2.5 in /Users/pulkit/miniconda3/envs/AI_FHTW/lib/python3.12/site-packages (from requests>=2.31.0->-r requirements.txt (line 8)) (3.7)\n",
      "Requirement already satisfied: urllib3<3,>=1.21.1 in /Users/pulkit/miniconda3/envs/AI_FHTW/lib/python3.12/site-packages (from requests>=2.31.0->-r requirements.txt (line 8)) (2.3.0)\n",
      "Requirement already satisfied: certifi>=2017.4.17 in /Users/pulkit/miniconda3/envs/AI_FHTW/lib/python3.12/site-packages (from requests>=2.31.0->-r requirements.txt (line 8)) (2025.1.31)\n",
      "Requirement already satisfied: packaging in /Users/pulkit/miniconda3/envs/AI_FHTW/lib/python3.12/site-packages (from lazy_loader>=0.1->librosa>=0.10.0->-r requirements.txt (line 4)) (24.2)\n",
      "Collecting llvmlite<0.45,>=0.44.0dev0 (from numba>=0.51.0->librosa>=0.10.0->-r requirements.txt (line 4))\n",
      "  Using cached llvmlite-0.44.0-cp312-cp312-macosx_11_0_arm64.whl.metadata (4.8 kB)\n",
      "Requirement already satisfied: platformdirs>=2.5.0 in /Users/pulkit/miniconda3/envs/AI_FHTW/lib/python3.12/site-packages (from pooch>=1.1->librosa>=0.10.0->-r requirements.txt (line 4)) (3.10.0)\n",
      "Requirement already satisfied: six>=1.5 in /Users/pulkit/miniconda3/envs/AI_FHTW/lib/python3.12/site-packages (from python-dateutil>=2.8.2->pandas>=2.1->-r requirements.txt (line 6)) (1.16.0)\n",
      "Collecting cffi>=1.0 (from soundfile>=0.12.1->librosa>=0.10.0->-r requirements.txt (line 4))\n",
      "  Downloading cffi-1.17.1-cp312-cp312-macosx_11_0_arm64.whl.metadata (1.5 kB)\n",
      "Collecting pycparser (from cffi>=1.0->soundfile>=0.12.1->librosa>=0.10.0->-r requirements.txt (line 4))\n",
      "  Downloading pycparser-2.22-py3-none-any.whl.metadata (943 bytes)\n",
      "Downloading librosa-0.11.0-py3-none-any.whl (260 kB)\n",
      "Downloading audioread-3.0.1-py3-none-any.whl (23 kB)\n",
      "Downloading lazy_loader-0.4-py3-none-any.whl (12 kB)\n",
      "Downloading msgpack-1.1.0-cp312-cp312-macosx_11_0_arm64.whl (82 kB)\n",
      "Downloading numba-0.61.2-cp312-cp312-macosx_11_0_arm64.whl (2.8 MB)\n",
      "\u001B[2K   \u001B[90m━━━━━━━━━━━━━━━━━━━━━━━━━━━━━━━━━━━━━━━━\u001B[0m \u001B[32m2.8/2.8 MB\u001B[0m \u001B[31m51.2 MB/s\u001B[0m eta \u001B[36m0:00:00\u001B[0m\n",
      "\u001B[?25hDownloading pooch-1.8.2-py3-none-any.whl (64 kB)\n",
      "Downloading soundfile-0.13.1-py2.py3-none-macosx_11_0_arm64.whl (1.1 MB)\n",
      "\u001B[2K   \u001B[90m━━━━━━━━━━━━━━━━━━━━━━━━━━━━━━━━━━━━━━━━\u001B[0m \u001B[32m1.1/1.1 MB\u001B[0m \u001B[31m36.3 MB/s\u001B[0m eta \u001B[36m0:00:00\u001B[0m\n",
      "\u001B[?25hDownloading soxr-0.5.0.post1-cp312-abi3-macosx_11_0_arm64.whl (156 kB)\n",
      "Downloading cffi-1.17.1-cp312-cp312-macosx_11_0_arm64.whl (178 kB)\n",
      "Using cached llvmlite-0.44.0-cp312-cp312-macosx_11_0_arm64.whl (26.2 MB)\n",
      "Downloading pycparser-2.22-py3-none-any.whl (117 kB)\n",
      "Installing collected packages: soxr, pycparser, msgpack, llvmlite, lazy_loader, audioread, pooch, numba, cffi, soundfile, librosa\n",
      "Successfully installed audioread-3.0.1 cffi-1.17.1 lazy_loader-0.4 librosa-0.11.0 llvmlite-0.44.0 msgpack-1.1.0 numba-0.61.2 pooch-1.8.2 pycparser-2.22 soundfile-0.13.1 soxr-0.5.0.post1\n"
     ]
    }
   ],
   "source": [
    "# installing all reqs can take a long time. First try to run with default package installation.\n",
    "#!pip install -r requirements.txt"
   ]
  },
  {
   "cell_type": "markdown",
   "metadata": {
    "id": "s3zHS5Gf8u3Z"
   },
   "source": [
    "## Download Dataset"
   ]
  },
  {
   "cell_type": "code",
   "execution_count": 2,
   "metadata": {
    "colab": {
     "base_uri": "https://localhost:8080/"
    },
    "id": "5wCGFUo-9Zbg",
    "outputId": "d82e4a5b-6761-479e-bff8-985529075557",
    "trusted": true
   },
   "outputs": [
    {
     "name": "stderr",
     "output_type": "stream",
     "text": [
      "data/esc50/master.zip: 616MiB [00:39, 16.4MiB/s] \n"
     ]
    }
   ],
   "source": [
    "from dataset.dataset_ESC50 import ESC50\n",
    "import config\n",
    "\n",
    "testset = ESC50(subset=\"test\", root=config.esc50_path, download=True)"
   ]
  },
  {
   "cell_type": "markdown",
   "metadata": {
    "id": "f6H7TJqdJqz_"
   },
   "source": [
    "This dataset contains 2000 audio files and is pre-organized in 5 equal sized folds of 400 files. The predictive performance is measured via average accuracy of 5-fold cross validation."
   ]
  },
  {
   "cell_type": "markdown",
   "metadata": {
    "id": "k-H4QmgwGpNp"
   },
   "source": [
    "What is the expected accuracy for random guessing? Check the number of classes."
   ]
  },
  {
   "cell_type": "code",
   "execution_count": 3,
   "metadata": {
    "colab": {
     "base_uri": "https://localhost:8080/"
    },
    "id": "QBdkry58Gepg",
    "outputId": "e800eb97-8756-4979-dbd3-bc1face7c332",
    "trusted": true
   },
   "outputs": [
    {
     "data": {
      "text/plain": [
       "50"
      ]
     },
     "execution_count": 3,
     "metadata": {},
     "output_type": "execute_result"
    }
   ],
   "source": [
    "config.n_classes"
   ]
  },
  {
   "cell_type": "markdown",
   "metadata": {},
   "source": [
    "Look at the dataset here: https://github.com/karolpiczak/ESC-50"
   ]
  },
  {
   "cell_type": "markdown",
   "metadata": {
    "id": "x3uXrmhw-tIF"
   },
   "source": [
    "## Evaluate Cross Validation\n",
    "This will test all 5 cross validation folds with training results of a sample-run - every fold with the respective model. First the sample-run (incl. the models) is downloaded. Then the model is loaded with the sample-run parameters and tested on the fold, for all 5 folds."
   ]
  },
  {
   "cell_type": "code",
   "execution_count": 4,
   "metadata": {
    "colab": {
     "base_uri": "https://localhost:8080/"
    },
    "id": "E7EoxObA0bui",
    "outputId": "83f2e4dc-ace7-429b-838b-46c083e2a574",
    "trusted": true
   },
   "outputs": [
    {
     "name": "stdout",
     "output_type": "stream",
     "text": [
      "download model params\n",
      "results/sample-run.zip: 100%|███████████████| 499M/499M [00:09<00:00, 52.7MiB/s]\n",
      "*****\n",
      "WARNING: Using hardcoded global mean and std. Depends on feature settings!\n",
      "AudioMLP(n_steps=431,n_mels=config.n_mels,hidden1_size=512,hidden2_size=128,output_size=config.n_classes,time_reduce=1)\n",
      "*****\n",
      "\n",
      "/Users/pulkit/Library/Mobile Documents/com~apple~CloudDocs/ai_fhtw/AI-ENG2024/ss2025/DevProjAIE/Challenge2/challenge2/DevProj-Challenge2/test_crossval.py:81: FutureWarning: You are using `torch.load` with `weights_only=False` (the current default value), which uses the default pickle module implicitly. It is possible to construct malicious pickle data which will execute arbitrary code during unpickling (See https://github.com/pytorch/pytorch/blob/main/SECURITY.md#untrusted-models for more details). In a future release, the default value for `weights_only` will be flipped to `True`. This limits the functions that could be executed during unpickling. Arbitrary objects will no longer be allowed to be loaded via this mode unless they are explicitly allowlisted by the user via `torch.serialization.add_safe_globals`. We recommend you start setting `weights_only=True` for any use case where you don't have full control of the loaded file. Please open an issue on GitHub for any issues related to this experimental feature.\n",
      "  sd = torch.load(model_file, map_location=device)\n",
      "test results/sample-run/1/terminal.pt\n",
      "100%|██████████████████████████████████████████| 13/13 [00:20<00:00,  1.61s/bat]\n",
      "TestAcc    0.362\n",
      "TestLoss   2.588\n",
      "dtype: float64\n",
      "\n",
      "/Users/pulkit/Library/Mobile Documents/com~apple~CloudDocs/ai_fhtw/AI-ENG2024/ss2025/DevProjAIE/Challenge2/challenge2/DevProj-Challenge2/test_crossval.py:81: FutureWarning: You are using `torch.load` with `weights_only=False` (the current default value), which uses the default pickle module implicitly. It is possible to construct malicious pickle data which will execute arbitrary code during unpickling (See https://github.com/pytorch/pytorch/blob/main/SECURITY.md#untrusted-models for more details). In a future release, the default value for `weights_only` will be flipped to `True`. This limits the functions that could be executed during unpickling. Arbitrary objects will no longer be allowed to be loaded via this mode unless they are explicitly allowlisted by the user via `torch.serialization.add_safe_globals`. We recommend you start setting `weights_only=True` for any use case where you don't have full control of the loaded file. Please open an issue on GitHub for any issues related to this experimental feature.\n",
      "  sd = torch.load(model_file, map_location=device)\n",
      "test results/sample-run/2/terminal.pt\n",
      "100%|██████████████████████████████████████████| 13/13 [00:13<00:00,  1.03s/bat]\n",
      "TestAcc    0.330\n",
      "TestLoss   2.673\n",
      "dtype: float64\n",
      "\n",
      "/Users/pulkit/Library/Mobile Documents/com~apple~CloudDocs/ai_fhtw/AI-ENG2024/ss2025/DevProjAIE/Challenge2/challenge2/DevProj-Challenge2/test_crossval.py:81: FutureWarning: You are using `torch.load` with `weights_only=False` (the current default value), which uses the default pickle module implicitly. It is possible to construct malicious pickle data which will execute arbitrary code during unpickling (See https://github.com/pytorch/pytorch/blob/main/SECURITY.md#untrusted-models for more details). In a future release, the default value for `weights_only` will be flipped to `True`. This limits the functions that could be executed during unpickling. Arbitrary objects will no longer be allowed to be loaded via this mode unless they are explicitly allowlisted by the user via `torch.serialization.add_safe_globals`. We recommend you start setting `weights_only=True` for any use case where you don't have full control of the loaded file. Please open an issue on GitHub for any issues related to this experimental feature.\n",
      "  sd = torch.load(model_file, map_location=device)\n",
      "test results/sample-run/3/terminal.pt\n",
      "100%|██████████████████████████████████████████| 13/13 [00:13<00:00,  1.04s/bat]\n",
      "TestAcc    0.347\n",
      "TestLoss   2.743\n",
      "dtype: float64\n",
      "\n",
      "/Users/pulkit/Library/Mobile Documents/com~apple~CloudDocs/ai_fhtw/AI-ENG2024/ss2025/DevProjAIE/Challenge2/challenge2/DevProj-Challenge2/test_crossval.py:81: FutureWarning: You are using `torch.load` with `weights_only=False` (the current default value), which uses the default pickle module implicitly. It is possible to construct malicious pickle data which will execute arbitrary code during unpickling (See https://github.com/pytorch/pytorch/blob/main/SECURITY.md#untrusted-models for more details). In a future release, the default value for `weights_only` will be flipped to `True`. This limits the functions that could be executed during unpickling. Arbitrary objects will no longer be allowed to be loaded via this mode unless they are explicitly allowlisted by the user via `torch.serialization.add_safe_globals`. We recommend you start setting `weights_only=True` for any use case where you don't have full control of the loaded file. Please open an issue on GitHub for any issues related to this experimental feature.\n",
      "  sd = torch.load(model_file, map_location=device)\n",
      "test results/sample-run/4/terminal.pt\n",
      "100%|██████████████████████████████████████████| 13/13 [00:13<00:00,  1.04s/bat]\n",
      "TestAcc    0.412\n",
      "TestLoss   2.292\n",
      "dtype: float64\n",
      "\n",
      "/Users/pulkit/Library/Mobile Documents/com~apple~CloudDocs/ai_fhtw/AI-ENG2024/ss2025/DevProjAIE/Challenge2/challenge2/DevProj-Challenge2/test_crossval.py:81: FutureWarning: You are using `torch.load` with `weights_only=False` (the current default value), which uses the default pickle module implicitly. It is possible to construct malicious pickle data which will execute arbitrary code during unpickling (See https://github.com/pytorch/pytorch/blob/main/SECURITY.md#untrusted-models for more details). In a future release, the default value for `weights_only` will be flipped to `True`. This limits the functions that could be executed during unpickling. Arbitrary objects will no longer be allowed to be loaded via this mode unless they are explicitly allowlisted by the user via `torch.serialization.add_safe_globals`. We recommend you start setting `weights_only=True` for any use case where you don't have full control of the loaded file. Please open an issue on GitHub for any issues related to this experimental feature.\n",
      "  sd = torch.load(model_file, map_location=device)\n",
      "test results/sample-run/5/terminal.pt\n",
      "100%|██████████████████████████████████████████| 13/13 [00:12<00:00,  1.02bat/s]\n",
      "TestAcc    0.352\n",
      "TestLoss   2.576\n",
      "dtype: float64\n",
      "     terminal.pt         \n",
      "         TestAcc TestLoss\n",
      "1          0.362    2.588\n",
      "2          0.330    2.673\n",
      "3          0.347    2.743\n",
      "4          0.412    2.292\n",
      "5          0.352    2.576\n",
      "mean       0.361    2.575\n",
      "std        0.031    0.172\n",
      "\n"
     ]
    }
   ],
   "source": [
    "import pandas as pd\n",
    "!mkdir results\n",
    "!python test_crossval.py"
   ]
  },
  {
   "cell_type": "markdown",
   "metadata": {
    "id": "0a1f4lGyBLPe"
   },
   "source": [
    "The mean CV accuracy should be TestAcc=0.361. This is quite good, given a random baseline of 0.02 / 2%.\n",
    "\n",
    "The sample-run directory now contains two CSV files, one with test scores and another with predictions."
   ]
  },
  {
   "cell_type": "code",
   "execution_count": 5,
   "metadata": {
    "colab": {
     "base_uri": "https://localhost:8080/"
    },
    "id": "2WvbhpAV8Dgl",
    "outputId": "18b42905-bc12-4c5a-cebe-059a742fac0d",
    "trusted": true
   },
   "outputs": [
    {
     "name": "stdout",
     "output_type": "stream",
     "text": [
      "\u001B[34m1\u001B[m\u001B[m                        \u001B[34m4\u001B[m\u001B[m                        test_scores_terminal.csv\n",
      "\u001B[34m2\u001B[m\u001B[m                        \u001B[34m5\u001B[m\u001B[m\n",
      "\u001B[34m3\u001B[m\u001B[m                        test_probs_terminal.csv\n"
     ]
    }
   ],
   "source": [
    "!ls results/sample-run/"
   ]
  },
  {
   "cell_type": "markdown",
   "metadata": {
    "id": "SH0IMqplEIYm"
   },
   "source": [
    "Let's check the scores."
   ]
  },
  {
   "cell_type": "code",
   "execution_count": 6,
   "metadata": {
    "colab": {
     "base_uri": "https://localhost:8080/",
     "height": 269
    },
    "id": "4LioTO4TCkrc",
    "outputId": "1ec6e3dc-7bb6-48d7-c708-a2f2ae0ece13",
    "trusted": true
   },
   "outputs": [
    {
     "data": {
      "text/html": [
       "<div>\n",
       "<style scoped>\n",
       "    .dataframe tbody tr th:only-of-type {\n",
       "        vertical-align: middle;\n",
       "    }\n",
       "\n",
       "    .dataframe tbody tr th {\n",
       "        vertical-align: top;\n",
       "    }\n",
       "\n",
       "    .dataframe thead th {\n",
       "        text-align: right;\n",
       "    }\n",
       "</style>\n",
       "<table border=\"1\" class=\"dataframe\">\n",
       "  <thead>\n",
       "    <tr style=\"text-align: right;\">\n",
       "      <th></th>\n",
       "      <th>TestAcc</th>\n",
       "      <th>TestLoss</th>\n",
       "    </tr>\n",
       "  </thead>\n",
       "  <tbody>\n",
       "    <tr>\n",
       "      <th>1</th>\n",
       "      <td>0.362500</td>\n",
       "      <td>2.588383</td>\n",
       "    </tr>\n",
       "    <tr>\n",
       "      <th>2</th>\n",
       "      <td>0.330000</td>\n",
       "      <td>2.673482</td>\n",
       "    </tr>\n",
       "    <tr>\n",
       "      <th>3</th>\n",
       "      <td>0.347500</td>\n",
       "      <td>2.743354</td>\n",
       "    </tr>\n",
       "    <tr>\n",
       "      <th>4</th>\n",
       "      <td>0.412500</td>\n",
       "      <td>2.292052</td>\n",
       "    </tr>\n",
       "    <tr>\n",
       "      <th>5</th>\n",
       "      <td>0.352500</td>\n",
       "      <td>2.576224</td>\n",
       "    </tr>\n",
       "    <tr>\n",
       "      <th>mean</th>\n",
       "      <td>0.361000</td>\n",
       "      <td>2.574699</td>\n",
       "    </tr>\n",
       "    <tr>\n",
       "      <th>std</th>\n",
       "      <td>0.031105</td>\n",
       "      <td>0.171960</td>\n",
       "    </tr>\n",
       "  </tbody>\n",
       "</table>\n",
       "</div>"
      ],
      "text/plain": [
       "       TestAcc  TestLoss\n",
       "1     0.362500  2.588383\n",
       "2     0.330000  2.673482\n",
       "3     0.347500  2.743354\n",
       "4     0.412500  2.292052\n",
       "5     0.352500  2.576224\n",
       "mean  0.361000  2.574699\n",
       "std   0.031105  0.171960"
      ]
     },
     "execution_count": 6,
     "metadata": {},
     "output_type": "execute_result"
    }
   ],
   "source": [
    "pd.read_csv('results/sample-run/test_scores_terminal.csv', index_col=0)"
   ]
  },
  {
   "cell_type": "markdown",
   "metadata": {
    "id": "_NcYG0KWEjEw"
   },
   "source": [
    "The predictions file is for submission. For every tested WAV file it contains the model predictions for the 50 classes."
   ]
  },
  {
   "cell_type": "code",
   "execution_count": 7,
   "metadata": {
    "colab": {
     "base_uri": "https://localhost:8080/",
     "height": 516
    },
    "id": "ncbDlAUtEVRg",
    "outputId": "fcdade0d-dc1c-4b20-94a4-1e62d976277f",
    "trusted": true
   },
   "outputs": [
    {
     "data": {
      "text/html": [
       "<div>\n",
       "<style scoped>\n",
       "    .dataframe tbody tr th:only-of-type {\n",
       "        vertical-align: middle;\n",
       "    }\n",
       "\n",
       "    .dataframe tbody tr th {\n",
       "        vertical-align: top;\n",
       "    }\n",
       "\n",
       "    .dataframe thead th {\n",
       "        text-align: right;\n",
       "    }\n",
       "</style>\n",
       "<table border=\"1\" class=\"dataframe\">\n",
       "  <thead>\n",
       "    <tr style=\"text-align: right;\">\n",
       "      <th></th>\n",
       "      <th>0</th>\n",
       "      <th>1</th>\n",
       "      <th>2</th>\n",
       "      <th>3</th>\n",
       "      <th>4</th>\n",
       "      <th>5</th>\n",
       "      <th>6</th>\n",
       "      <th>7</th>\n",
       "      <th>8</th>\n",
       "      <th>9</th>\n",
       "      <th>...</th>\n",
       "      <th>40</th>\n",
       "      <th>41</th>\n",
       "      <th>42</th>\n",
       "      <th>43</th>\n",
       "      <th>44</th>\n",
       "      <th>45</th>\n",
       "      <th>46</th>\n",
       "      <th>47</th>\n",
       "      <th>48</th>\n",
       "      <th>49</th>\n",
       "    </tr>\n",
       "  </thead>\n",
       "  <tbody>\n",
       "    <tr>\n",
       "      <th>1-100032-A-0.wav</th>\n",
       "      <td>4.950584</td>\n",
       "      <td>4.086159</td>\n",
       "      <td>1.574152</td>\n",
       "      <td>-1.253273</td>\n",
       "      <td>-2.158790</td>\n",
       "      <td>5.638131</td>\n",
       "      <td>1.418871</td>\n",
       "      <td>-0.529921</td>\n",
       "      <td>-3.054562</td>\n",
       "      <td>0.565201</td>\n",
       "      <td>...</td>\n",
       "      <td>-1.460855</td>\n",
       "      <td>-3.771865</td>\n",
       "      <td>-2.689058</td>\n",
       "      <td>1.790378</td>\n",
       "      <td>-4.982672</td>\n",
       "      <td>-6.115510</td>\n",
       "      <td>-3.917398</td>\n",
       "      <td>-5.277284</td>\n",
       "      <td>2.484046</td>\n",
       "      <td>-0.621556</td>\n",
       "    </tr>\n",
       "    <tr>\n",
       "      <th>1-100038-A-14.wav</th>\n",
       "      <td>-1.823734</td>\n",
       "      <td>-0.081732</td>\n",
       "      <td>1.714846</td>\n",
       "      <td>-0.510304</td>\n",
       "      <td>-0.559352</td>\n",
       "      <td>-0.462725</td>\n",
       "      <td>-1.596903</td>\n",
       "      <td>-3.328725</td>\n",
       "      <td>3.402166</td>\n",
       "      <td>1.168820</td>\n",
       "      <td>...</td>\n",
       "      <td>-2.181345</td>\n",
       "      <td>-0.806688</td>\n",
       "      <td>2.740038</td>\n",
       "      <td>0.838290</td>\n",
       "      <td>-4.762272</td>\n",
       "      <td>-2.113644</td>\n",
       "      <td>1.220126</td>\n",
       "      <td>-1.318684</td>\n",
       "      <td>2.975007</td>\n",
       "      <td>3.918016</td>\n",
       "    </tr>\n",
       "    <tr>\n",
       "      <th>1-100210-A-36.wav</th>\n",
       "      <td>-6.004368</td>\n",
       "      <td>-4.552930</td>\n",
       "      <td>-0.429048</td>\n",
       "      <td>-1.860066</td>\n",
       "      <td>-2.542746</td>\n",
       "      <td>-2.629529</td>\n",
       "      <td>0.086764</td>\n",
       "      <td>0.783161</td>\n",
       "      <td>0.780406</td>\n",
       "      <td>1.507993</td>\n",
       "      <td>...</td>\n",
       "      <td>0.416693</td>\n",
       "      <td>5.807642</td>\n",
       "      <td>-1.925122</td>\n",
       "      <td>2.742118</td>\n",
       "      <td>5.625043</td>\n",
       "      <td>0.582538</td>\n",
       "      <td>-3.300045</td>\n",
       "      <td>2.434968</td>\n",
       "      <td>0.405135</td>\n",
       "      <td>3.650155</td>\n",
       "    </tr>\n",
       "    <tr>\n",
       "      <th>1-100210-B-36.wav</th>\n",
       "      <td>-6.082081</td>\n",
       "      <td>-4.593886</td>\n",
       "      <td>-0.688890</td>\n",
       "      <td>-2.084895</td>\n",
       "      <td>-2.785393</td>\n",
       "      <td>-2.881230</td>\n",
       "      <td>-0.118920</td>\n",
       "      <td>-0.366828</td>\n",
       "      <td>1.085200</td>\n",
       "      <td>1.281379</td>\n",
       "      <td>...</td>\n",
       "      <td>0.653679</td>\n",
       "      <td>5.467761</td>\n",
       "      <td>-2.095331</td>\n",
       "      <td>2.336657</td>\n",
       "      <td>5.946030</td>\n",
       "      <td>0.876772</td>\n",
       "      <td>-3.869635</td>\n",
       "      <td>2.541424</td>\n",
       "      <td>0.367543</td>\n",
       "      <td>3.366386</td>\n",
       "    </tr>\n",
       "    <tr>\n",
       "      <th>1-101296-A-19.wav</th>\n",
       "      <td>-2.992097</td>\n",
       "      <td>-7.215904</td>\n",
       "      <td>1.678491</td>\n",
       "      <td>0.729123</td>\n",
       "      <td>-3.915599</td>\n",
       "      <td>-0.457152</td>\n",
       "      <td>-1.054249</td>\n",
       "      <td>6.329288</td>\n",
       "      <td>-0.666291</td>\n",
       "      <td>-3.946541</td>\n",
       "      <td>...</td>\n",
       "      <td>4.721740</td>\n",
       "      <td>0.543420</td>\n",
       "      <td>-4.440724</td>\n",
       "      <td>1.899166</td>\n",
       "      <td>0.930295</td>\n",
       "      <td>5.349950</td>\n",
       "      <td>-2.209333</td>\n",
       "      <td>1.606775</td>\n",
       "      <td>3.384397</td>\n",
       "      <td>1.834558</td>\n",
       "    </tr>\n",
       "  </tbody>\n",
       "</table>\n",
       "<p>5 rows × 50 columns</p>\n",
       "</div>"
      ],
      "text/plain": [
       "                          0         1         2         3         4         5  \\\n",
       "1-100032-A-0.wav   4.950584  4.086159  1.574152 -1.253273 -2.158790  5.638131   \n",
       "1-100038-A-14.wav -1.823734 -0.081732  1.714846 -0.510304 -0.559352 -0.462725   \n",
       "1-100210-A-36.wav -6.004368 -4.552930 -0.429048 -1.860066 -2.542746 -2.629529   \n",
       "1-100210-B-36.wav -6.082081 -4.593886 -0.688890 -2.084895 -2.785393 -2.881230   \n",
       "1-101296-A-19.wav -2.992097 -7.215904  1.678491  0.729123 -3.915599 -0.457152   \n",
       "\n",
       "                          6         7         8         9  ...        40  \\\n",
       "1-100032-A-0.wav   1.418871 -0.529921 -3.054562  0.565201  ... -1.460855   \n",
       "1-100038-A-14.wav -1.596903 -3.328725  3.402166  1.168820  ... -2.181345   \n",
       "1-100210-A-36.wav  0.086764  0.783161  0.780406  1.507993  ...  0.416693   \n",
       "1-100210-B-36.wav -0.118920 -0.366828  1.085200  1.281379  ...  0.653679   \n",
       "1-101296-A-19.wav -1.054249  6.329288 -0.666291 -3.946541  ...  4.721740   \n",
       "\n",
       "                         41        42        43        44        45        46  \\\n",
       "1-100032-A-0.wav  -3.771865 -2.689058  1.790378 -4.982672 -6.115510 -3.917398   \n",
       "1-100038-A-14.wav -0.806688  2.740038  0.838290 -4.762272 -2.113644  1.220126   \n",
       "1-100210-A-36.wav  5.807642 -1.925122  2.742118  5.625043  0.582538 -3.300045   \n",
       "1-100210-B-36.wav  5.467761 -2.095331  2.336657  5.946030  0.876772 -3.869635   \n",
       "1-101296-A-19.wav  0.543420 -4.440724  1.899166  0.930295  5.349950 -2.209333   \n",
       "\n",
       "                         47        48        49  \n",
       "1-100032-A-0.wav  -5.277284  2.484046 -0.621556  \n",
       "1-100038-A-14.wav -1.318684  2.975007  3.918016  \n",
       "1-100210-A-36.wav  2.434968  0.405135  3.650155  \n",
       "1-100210-B-36.wav  2.541424  0.367543  3.366386  \n",
       "1-101296-A-19.wav  1.606775  3.384397  1.834558  \n",
       "\n",
       "[5 rows x 50 columns]"
      ]
     },
     "execution_count": 7,
     "metadata": {},
     "output_type": "execute_result"
    }
   ],
   "source": [
    "pd.read_csv('results/sample-run/test_probs_terminal.csv', index_col=0).head()"
   ]
  },
  {
   "cell_type": "markdown",
   "metadata": {
    "id": "35GjYEpJHZt5"
   },
   "source": [
    "Let's download the predictions file and submit it to the Challenge in Moodle."
   ]
  },
  {
   "cell_type": "markdown",
   "metadata": {
    "id": "0DWlu6PoH98D"
   },
   "source": [
    "## Train Cross Validation"
   ]
  },
  {
   "cell_type": "code",
   "execution_count": 8,
   "metadata": {
    "colab": {
     "base_uri": "https://localhost:8080/"
    },
    "id": "k3YvPnA6HjlJ",
    "outputId": "eed63b69-1a94-4832-f08d-d23a623bdb0b",
    "trusted": true
   },
   "outputs": [
    {
     "name": "stdout",
     "output_type": "stream",
     "text": [
      "WARNING: Using hardcoded global mean and std. Depends on feature settings!\n",
      "*****\n",
      "train folds are {2, 3, 4, 5} and test fold is {1}\n",
      "random wave cropping\n",
      "\n",
      "AudioMLP(n_steps=431,n_mels=config.n_mels,hidden1_size=512,hidden2_size=128,output_size=config.n_classes,time_reduce=1)\n",
      "*****\n",
      "\n",
      "100%|██████████████████████████████████████████| 40/40 [00:57<00:00,  1.45s/bat]\n",
      "100%|██████████████████████████████████████████| 10/10 [00:16<00:00,  1.62s/bat]\n",
      "  0%|           | 1/200 [01:14<4:05:40, 74.07s/ep] TrnAcc=0.055 ValAcc=0.084 TrnLoss=3.757 ValLoss=3.581 < inf --> checkpoint\n",
      "100%|██████████████████████████████████████████| 40/40 [01:06<00:00,  1.66s/bat]\n",
      "100%|██████████████████████████████████████████| 10/10 [00:16<00:00,  1.62s/bat]\n",
      "  1%|1          | 2/200 [02:36<4:21:23, 79.21s/ep] TrnAcc=0.095 ValAcc=0.103 TrnLoss=3.417 ValLoss=3.386 < 3.581 --> checkpoint\n",
      "100%|██████████████████████████████████████████| 40/40 [01:02<00:00,  1.57s/bat]\n",
      "100%|██████████████████████████████████████████| 10/10 [00:15<00:00,  1.50s/bat]\n",
      "  2%|1          | 3/200 [03:54<4:17:58, 78.57s/ep] TrnAcc=0.134 ValAcc=0.141 TrnLoss=3.188 ValLoss=3.205 < 3.386 --> checkpoint\n",
      " 20%|████████▌                                  | 8/40 [00:11<00:35,  1.11s/bat]^C\n",
      "  File \"/Users/pulkit/miniconda3/envs/AI_FHTW/lib/python3.12/site-packages/torch/utils/data/dataloader.py\", line 630, in __next__\n",
      "    data = self._next_data()\n",
      "           ^^^^^^^^^^^^^^^^^\n",
      "  File \"/Users/pulkit/miniconda3/envs/AI_FHTW/lib/python3.12/site-packages/torch/utils/data/dataloader.py\", line 1327, in _next_data\n",
      "    idx, data = self._get_data()\n",
      "                ^^^^^^^^^^^^^^^^\n",
      "  File \"/Users/pulkit/miniconda3/envs/AI_FHTW/lib/python3.12/site-packages/torch/utils/data/dataloader.py\", line 1293, in _get_data\n",
      "    success, data = self._try_get_data()\n",
      "                    ^^^^^^^^^^^^^^^^^^^^\n",
      "  File \"/Users/pulkit/miniconda3/envs/AI_FHTW/lib/python3.12/site-packages/torch/utils/data/dataloader.py\", line 1131, in _try_get_data\n",
      "    data = self._data_queue.get(timeout=timeout)\n",
      "           ^^^^^^^^^^^^^^^^^^^^^^^^^^^^^^^^^^^^^\n",
      "  File \"/Users/pulkit/miniconda3/envs/AI_FHTW/lib/python3.12/multiprocessing/queues.py\", line 113, in get\n",
      "    if not self._poll(timeout):\n",
      "           ^^^^^^^^^^^^^^^^^^^\n",
      "  File \"/Users/pulkit/miniconda3/envs/AI_FHTW/lib/python3.12/multiprocessing/connection.py\", line 257, in poll\n",
      "    return self._poll(timeout)\n",
      "           ^^^^^^^^^^^^^^^^^^^\n",
      "  File \"/Users/pulkit/miniconda3/envs/AI_FHTW/lib/python3.12/multiprocessing/connection.py\", line 440, in _poll\n",
      "    r = wait([self], timeout)\n",
      "        ^^^^^^^^^^^^^^^^^^^^^\n",
      "  File \"/Users/pulkit/miniconda3/envs/AI_FHTW/lib/python3.12/multiprocessing/connection.py\", line 1135, in wait\n",
      "    ready = selector.select(timeout)\n",
      "            ^^^^^^^^^^^^^^^^^^^^^^^^\n",
      "  File \"/Users/pulkit/miniconda3/envs/AI_FHTW/lib/python3.12/selectors.py\", line 415, in select\n",
      "    fd_event_list = self._selector.poll(timeout)\n",
      "                    ^^^^^^^^^^^^^^^^^^^^^^^^^^^^\n",
      "KeyboardInterrupt\n",
      "Exception ignored in atexit callback: <function _exit_function at 0x117872c00>\n",
      "Traceback (most recent call last):\n",
      "  File \"/Users/pulkit/miniconda3/envs/AI_FHTW/lib/python3.12/multiprocessing/util.py\", line 360, in _exit_function\n",
      "    p.join()\n",
      "  File \"/Users/pulkit/miniconda3/envs/AI_FHTW/lib/python3.12/multiprocessing/process.py\", line 149, in join\n",
      "    res = self._popen.wait(timeout)\n",
      "          ^^^^^^^^^^^^^^^^^^^^^^^^^\n",
      "  File \"/Users/pulkit/miniconda3/envs/AI_FHTW/lib/python3.12/multiprocessing/popen_fork.py\", line 43, in wait\n",
      "    return self.poll(os.WNOHANG if timeout == 0.0 else 0)\n",
      "           ^^^^^^^^^^^^^^^^^^^^^^^^^^^^^^^^^^^^^^^^^^^^^^\n",
      "  File \"/Users/pulkit/miniconda3/envs/AI_FHTW/lib/python3.12/multiprocessing/popen_fork.py\", line 27, in poll\n",
      "    pid, sts = os.waitpid(self.pid, flag)\n",
      "               ^^^^^^^^^^^^^^^^^^^^^^^^^^\n",
      "  File \"/Users/pulkit/miniconda3/envs/AI_FHTW/lib/python3.12/site-packages/torch/utils/data/_utils/signal_handling.py\", line 67, in handler\n",
      "    _error_if_any_worker_fails()\n",
      "RuntimeError: DataLoader worker (pid 38155) is killed by signal: Interrupt: 2. \n"
     ]
    }
   ],
   "source": [
    "!python train_crossval.py"
   ]
  },
  {
   "cell_type": "code",
   "execution_count": null,
   "metadata": {
    "id": "10a0Qwi9Iaxn",
    "trusted": true
   },
   "outputs": [],
   "source": []
  }
 ],
 "metadata": {
  "colab": {
   "provenance": []
  },
  "kaggle": {
   "accelerator": "nvidiaTeslaT4",
   "dataSources": [],
   "dockerImageVersionId": 30919,
   "isGpuEnabled": true,
   "isInternetEnabled": true,
   "language": "python",
   "sourceType": "notebook"
  },
  "kernelspec": {
   "display_name": "AI_FHTW",
   "language": "python",
   "name": "python3"
  },
  "language_info": {
   "codemirror_mode": {
    "name": "ipython",
    "version": 3
   },
   "file_extension": ".py",
   "mimetype": "text/x-python",
   "name": "python",
   "nbconvert_exporter": "python",
   "pygments_lexer": "ipython3",
   "version": "3.12.9"
  }
 },
 "nbformat": 4,
 "nbformat_minor": 4
}
